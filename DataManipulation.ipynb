{
  "cells": [
    {
      "cell_type": "code",
      "execution_count": null,
      "id": "e56cb763-3a34-41a3-bd77-87192ca07dce",
      "metadata": {
        "id": "e56cb763-3a34-41a3-bd77-87192ca07dce",
        "outputId": "5f19b89b-edc7-4ba4-cd53-bdb57cb9221d"
      },
      "outputs": [
        {
          "name": "stdout",
          "output_type": "stream",
          "text": [
            "Index(['Unnamed: 0', 'Unnamed: 1', 'Unnamed: 2', 'Unnamed: 3',\n",
            "       'Loan Categories', 'Unnamed: 5', 'Unnamed: 6', 'Unnamed: 7',\n",
            "       'Unnamed: 8', 'Unnamed: 9',\n",
            "       ...\n",
            "       'Unnamed: 182', 'Unnamed: 183', 'Unnamed: 184', 'Unnamed: 185',\n",
            "       'Unnamed: 186', 'Unnamed: 187', 'Unnamed: 188', 'Unnamed: 189',\n",
            "       'Unnamed: 190', 'Capital Calcs'],\n",
            "      dtype='object', length=192)\n"
          ]
        }
      ],
      "source": [
        "import pandas as pd\n",
        "\n",
        "# Load dataset\n",
        "df = pd.read_csv(\"Untitled spreadsheet - Data Tape.csv\")\n",
        "\n",
        "# Print column names to identify mismatches\n",
        "print(df.columns)\n"
      ]
    },
    {
      "cell_type": "code",
      "execution_count": null,
      "id": "122af71c-3172-41b1-90e5-14eb2522a2e0",
      "metadata": {
        "id": "122af71c-3172-41b1-90e5-14eb2522a2e0",
        "outputId": "16118bed-9b3c-486e-8378-ee8508535204"
      },
      "outputs": [
        {
          "name": "stdout",
          "output_type": "stream",
          "text": [
            "Index(['Unnamed: 0', 'Include?', 'LoanID', 'LD LoanID', 'Loan Category',\n",
            "       'Product Type', 'Original Loan Amount', 'Loan Product', 'Loan Type',\n",
            "       'Deferred Loan',\n",
            "       ...\n",
            "       'Minimum of (i) and (ii)', 'Excess', 'Unnamed: 184', 'FICO <= 669',\n",
            "       'Unnamed: 186', 'FICO <= 699', 'Unnamed: 188', 'FICO <= 759',\n",
            "       'Unnamed: 190', 'Sum of Sqaures'],\n",
            "      dtype='object', length=192)\n"
          ]
        },
        {
          "data": {
            "text/html": [
              "<div>\n",
              "<style scoped>\n",
              "    .dataframe tbody tr th:only-of-type {\n",
              "        vertical-align: middle;\n",
              "    }\n",
              "\n",
              "    .dataframe tbody tr th {\n",
              "        vertical-align: top;\n",
              "    }\n",
              "\n",
              "    .dataframe thead th {\n",
              "        text-align: right;\n",
              "    }\n",
              "</style>\n",
              "<table border=\"1\" class=\"dataframe\">\n",
              "  <thead>\n",
              "    <tr style=\"text-align: right;\">\n",
              "      <th></th>\n",
              "      <th>Borrower FICO</th>\n",
              "      <th>Qualifying DTI</th>\n",
              "      <th>Borrower Verified Income</th>\n",
              "      <th>Defaulted</th>\n",
              "    </tr>\n",
              "  </thead>\n",
              "  <tbody>\n",
              "    <tr>\n",
              "      <th>1</th>\n",
              "      <td>689</td>\n",
              "      <td>36.3%</td>\n",
              "      <td>15521.42</td>\n",
              "      <td>0.0</td>\n",
              "    </tr>\n",
              "    <tr>\n",
              "      <th>32</th>\n",
              "      <td>683</td>\n",
              "      <td>35.4%</td>\n",
              "      <td>5731.21</td>\n",
              "      <td>0.0</td>\n",
              "    </tr>\n",
              "    <tr>\n",
              "      <th>54</th>\n",
              "      <td>655</td>\n",
              "      <td>37.1%</td>\n",
              "      <td>5248.83</td>\n",
              "      <td>0.0</td>\n",
              "    </tr>\n",
              "    <tr>\n",
              "      <th>67</th>\n",
              "      <td>693</td>\n",
              "      <td>38.4%</td>\n",
              "      <td>11192.42</td>\n",
              "      <td>0.0</td>\n",
              "    </tr>\n",
              "    <tr>\n",
              "      <th>85</th>\n",
              "      <td>651</td>\n",
              "      <td>49.3%</td>\n",
              "      <td>6887.07</td>\n",
              "      <td>0.0</td>\n",
              "    </tr>\n",
              "  </tbody>\n",
              "</table>\n",
              "</div>"
            ],
            "text/plain": [
              "    Borrower FICO Qualifying DTI  Borrower Verified Income  Defaulted\n",
              "1             689         36.3%                   15521.42        0.0\n",
              "32            683         35.4%                    5731.21        0.0\n",
              "54            655         37.1%                    5248.83        0.0\n",
              "67            693         38.4%                   11192.42        0.0\n",
              "85            651         49.3%                    6887.07        0.0"
            ]
          },
          "execution_count": 4,
          "metadata": {},
          "output_type": "execute_result"
        }
      ],
      "source": [
        "import pandas as pd\n",
        "\n",
        "# Load dataset, using row 6 (index 5) as column headers\n",
        "df = pd.read_csv(\"Untitled spreadsheet - Data Tape.csv\", header=5)\n",
        "\n",
        "# Strip any unwanted spaces from column names\n",
        "df.columns = df.columns.str.strip()\n",
        "\n",
        "# Print column names to confirm\n",
        "print(df.columns)\n",
        "\n",
        "# Now, select the needed columns\n",
        "df = df[['Borrower FICO', 'Qualifying DTI', 'Borrower Verified Income', 'Defaulted']].dropna()\n",
        "\n",
        "# Preview data\n",
        "df.head()\n"
      ]
    },
    {
      "cell_type": "code",
      "execution_count": null,
      "id": "0aff7dcc-c7bc-4e5b-ac37-85a8997aeb26",
      "metadata": {
        "id": "0aff7dcc-c7bc-4e5b-ac37-85a8997aeb26",
        "outputId": "4a6556f6-5d23-41f4-9709-ba02900b885f"
      },
      "outputs": [
        {
          "name": "stdout",
          "output_type": "stream",
          "text": [
            "    Borrower FICO  Qualifying DTI  Borrower Verified Income  Defaulted\n",
            "1             689           0.363                         1        0.0\n",
            "32            683           0.354                         1        0.0\n",
            "54            655           0.371                         1        0.0\n",
            "67            693           0.384                         1        0.0\n",
            "85            651           0.493                         1        0.0\n"
          ]
        }
      ],
      "source": [
        "# Convert 'Qualifying DTI' from percentage to float\n",
        "df['Qualifying DTI'] = df['Qualifying DTI'].str.replace('%', '').astype(float) / 100\n",
        "\n",
        "# Convert 'Borrower Verified Income' to binary (1 = Verified, 0 = Unverified)\n",
        "df['Borrower Verified Income'] = (df['Borrower Verified Income'] > 0).astype(int)\n",
        "\n",
        "# Print to confirm\n",
        "print(df.head())\n"
      ]
    },
    {
      "cell_type": "code",
      "execution_count": null,
      "id": "cdf33573-363a-416e-a8f5-a3d9f0053eb9",
      "metadata": {
        "id": "cdf33573-363a-416e-a8f5-a3d9f0053eb9",
        "outputId": "c2275ff7-b47f-45cc-b277-0262c4e31b46"
      },
      "outputs": [
        {
          "name": "stdout",
          "output_type": "stream",
          "text": [
            "   Borrower FICO  Qualifying DTI  Borrower Verified Income  fico_level  \\\n",
            "0            720           0.000                         0           1   \n",
            "1            689           0.363                         1           1   \n",
            "2            702           0.000                         0           1   \n",
            "3            720           0.000                         0           1   \n",
            "4            817           0.000                         0           2   \n",
            "\n",
            "   dti_level  state  \n",
            "0          2    5.0  \n",
            "1          1    4.0  \n",
            "2          2    5.0  \n",
            "3          2    5.0  \n",
            "4          2    8.0  \n"
          ]
        }
      ],
      "source": [
        "import pandas as pd\n",
        "import numpy as np\n",
        "\n",
        "# Load cleaned dataset\n",
        "df = pd.read_csv(\"Clean Untitled spreadsheet - Data Tape.csv\", header=5)\n",
        "\n",
        "# Strip spaces from column names\n",
        "df.columns = df.columns.str.strip()\n",
        "\n",
        "# Convert 'Qualifying DTI' from percentage to float\n",
        "df['Qualifying DTI'] = df['Qualifying DTI'].astype(str).str.replace('%', '').astype(float) / 100\n",
        "\n",
        "# Convert 'Borrower Verified Income' to binary (1 = Verified, 0 = Unverified)\n",
        "df['Borrower Verified Income'] = (df['Borrower Verified Income'] > 0).astype(int)\n",
        "\n",
        "# Drop missing values in relevant columns\n",
        "df = df[['Borrower FICO', 'Qualifying DTI', 'Borrower Verified Income', 'Defaulted']].dropna()\n",
        "\n",
        "# Define fuzzy sets\n",
        "def fuzzy_fico(fico):\n",
        "    if fico > 720:\n",
        "        return 2  # Low Risk\n",
        "    elif fico >= 650:\n",
        "        return 1  # Medium Risk\n",
        "    else:\n",
        "        return 0  # High Risk\n",
        "\n",
        "def fuzzy_dti(dti):\n",
        "    if dti > 0.45:   # DTI > 45% is Critical\n",
        "        return 0\n",
        "    elif dti > 0.30: # DTI 30-45% is Manageable\n",
        "        return 1\n",
        "    else:            # DTI < 30% is Affordable\n",
        "        return 2\n",
        "\n",
        "def fuzzy_income(verified):\n",
        "    return 2 if verified == 1 else 1  # 2 = Verified, 1 = Unverified\n",
        "\n",
        "# Apply fuzzy classification\n",
        "df['fico_level'] = df['Borrower FICO'].apply(fuzzy_fico)\n",
        "df['dti_level'] = df['Qualifying DTI'].apply(fuzzy_dti)\n",
        "df['income_level'] = df['Borrower Verified Income'].apply(fuzzy_income)\n",
        "\n",
        "# Assign each loan to a state in 3x3 Gridworld (State = FICO x DTI)\n",
        "df['state'] = df.apply(lambda row: row['fico_level'] * 3 + row['dti_level'], axis=1)\n",
        "\n",
        "# Optional: Assign X, Y grid coordinates for visualization\n",
        "df['grid_x'] = df['fico_level']\n",
        "df['grid_y'] = df['dti_level']\n",
        "\n",
        "# Preview cleaned dataset with assigned states\n",
        "print(df[['Borrower FICO', 'Qualifying DTI', 'Borrower Verified Income', 'fico_level', 'dti_level', 'state']].head())\n"
      ]
    },
    {
      "cell_type": "code",
      "execution_count": null,
      "id": "a97a58d1-2556-4253-9d64-df24b6cd1ee9",
      "metadata": {
        "id": "a97a58d1-2556-4253-9d64-df24b6cd1ee9",
        "outputId": "3e9b9145-592c-4ca2-f7a6-6ae6ca7ed969"
      },
      "outputs": [
        {
          "name": "stdout",
          "output_type": "stream",
          "text": [
            "[0.    0.363 0.349 0.311 0.463 0.322 0.231 0.27  0.28  0.221 0.354 0.156\n",
            " 0.32  0.426 0.361 0.371 0.274 0.486 0.384 0.323 0.497 0.402 0.493 0.358\n",
            " 0.453 0.102 0.192 0.336 0.203 0.309 0.388 0.488 0.498 0.548 0.473 0.258\n",
            " 0.352 0.219 0.414 0.123 0.469 0.353 0.224 0.445 0.318 0.098 0.333 0.161\n",
            " 0.137 0.504 0.484 0.39  0.144 0.29 ]\n"
          ]
        }
      ],
      "source": [
        "# Check unique values in DTI\n",
        "print(df['Qualifying DTI'].unique())\n"
      ]
    },
    {
      "cell_type": "code",
      "execution_count": null,
      "id": "7fda209c-040a-4a6f-a464-268e9ef57487",
      "metadata": {
        "id": "7fda209c-040a-4a6f-a464-268e9ef57487",
        "outputId": "42aa3c06-1362-456e-83fd-aee48fcb0326"
      },
      "outputs": [
        {
          "name": "stdout",
          "output_type": "stream",
          "text": [
            "    Borrower FICO  Qualifying DTI  Borrower Verified Income  fico_level  \\\n",
            "0             720             0.0                         0           1   \n",
            "1             689            36.3                         1           1   \n",
            "2             702             0.0                         0           1   \n",
            "3             720             0.0                         0           1   \n",
            "4             817             0.0                         0           2   \n",
            "..            ...             ...                       ...         ...   \n",
            "95            826             0.0                         0           2   \n",
            "96            833             0.0                         0           2   \n",
            "97            800             0.0                         0           2   \n",
            "98            698            10.2                         0           1   \n",
            "99            822             0.0                         0           2   \n",
            "\n",
            "    dti_level  state  \n",
            "0           2      5  \n",
            "1           1      4  \n",
            "2           2      5  \n",
            "3           2      5  \n",
            "4           2      8  \n",
            "..        ...    ...  \n",
            "95          2      8  \n",
            "96          2      8  \n",
            "97          2      8  \n",
            "98          2      5  \n",
            "99          2      8  \n",
            "\n",
            "[100 rows x 6 columns]\n"
          ]
        }
      ],
      "source": [
        "import pandas as pd\n",
        "import numpy as np\n",
        "\n",
        "# Load cleaned dataset (with correct DTI values)\n",
        "df = pd.read_csv(\"Clean Untitled spreadsheet - Data Tape.csv\", header=5)\n",
        "\n",
        "# Strip spaces from column names\n",
        "df.columns = df.columns.str.strip()\n",
        "\n",
        "# Convert 'Qualifying DTI' from percentage string to float (ensuring correct values)\n",
        "df['Qualifying DTI'] = df['Qualifying DTI'].astype(str).str.replace('%', '').astype(float)\n",
        "\n",
        "# Convert 'Borrower Verified Income' to binary (1 = Verified, 0 = Unverified)\n",
        "df['Borrower Verified Income'] = (df['Borrower Verified Income'] > 0).astype(int)\n",
        "\n",
        "# Drop missing values in relevant columns\n",
        "df = df[['Borrower FICO', 'Qualifying DTI', 'Borrower Verified Income', 'Defaulted']].dropna()\n",
        "\n",
        "# Define fuzzy sets\n",
        "def fuzzy_fico(fico):\n",
        "    if fico > 720:\n",
        "        return 2  # Low Risk\n",
        "    elif fico >= 650:\n",
        "        return 1  # Medium Risk\n",
        "    else:\n",
        "        return 0  # High Risk\n",
        "\n",
        "def fuzzy_dti(dti):\n",
        "    if dti > 45:   # DTI > 45% is Critical\n",
        "        return 0\n",
        "    elif dti > 30: # DTI 30-45% is Manageable\n",
        "        return 1\n",
        "    else:          # DTI < 30% is Affordable\n",
        "        return 2\n",
        "\n",
        "def fuzzy_income(verified):\n",
        "    return 2 if verified == 1 else 1  # 2 = Verified, 1 = Unverified\n",
        "\n",
        "# Apply fuzzy classification\n",
        "df['fico_level'] = df['Borrower FICO'].apply(fuzzy_fico)\n",
        "df['dti_level'] = df['Qualifying DTI'].apply(fuzzy_dti)\n",
        "df['income_level'] = df['Borrower Verified Income'].apply(fuzzy_income)\n",
        "\n",
        "# Assign each loan to a state in 3x3 Gridworld (State = FICO x DTI)\n",
        "df['state'] = df.apply(lambda row: row['fico_level'] * 3 + row['dti_level'], axis=1).astype(int)\n",
        "\n",
        "# Optional: Assign X, Y grid coordinates for visualization\n",
        "df['grid_x'] = df['fico_level'].astype(int)\n",
        "df['grid_y'] = df['dti_level'].astype(int)\n",
        "\n",
        "# Preview cleaned dataset with assigned states (non-decimal values)\n",
        "print(df[['Borrower FICO', 'Qualifying DTI', 'Borrower Verified Income', 'fico_level', 'dti_level', 'state']].head(100))\n"
      ]
    },
    {
      "cell_type": "code",
      "execution_count": null,
      "id": "279eef59-6fae-4a2d-b0a6-e162ee3bff5a",
      "metadata": {
        "id": "279eef59-6fae-4a2d-b0a6-e162ee3bff5a",
        "outputId": "d4e2c48f-1fb4-4218-8f75-31a5924d91b1"
      },
      "outputs": [
        {
          "name": "stdout",
          "output_type": "stream",
          "text": [
            "    Borrower FICO  Qualifying DTI  Borrower Verified Income  Defaulted  \\\n",
            "1             689            36.3                         1        0.0   \n",
            "9             660            34.9                         0        0.0   \n",
            "10            661            31.1                         0        0.0   \n",
            "14            651            46.3                         0        0.0   \n",
            "19            579            32.2                         0        0.0   \n",
            "20            695            23.1                         0        0.0   \n",
            "21            658            27.0                         0        0.0   \n",
            "25            694            28.0                         0        0.0   \n",
            "28            655            22.1                         0        0.0   \n",
            "32            683            35.4                         1        0.0   \n",
            "\n",
            "    fico_level  dti_level  income_level  state  grid_x  grid_y  \n",
            "1            1          1             2      4       1       1  \n",
            "9            1          1             1      4       1       1  \n",
            "10           1          1             1      4       1       1  \n",
            "14           1          0             1      3       1       0  \n",
            "19           0          1             1      1       0       1  \n",
            "20           1          2             1      5       1       2  \n",
            "21           1          2             1      5       1       2  \n",
            "25           1          2             1      5       1       2  \n",
            "28           1          2             1      5       1       2  \n",
            "32           1          1             2      4       1       1  \n"
          ]
        }
      ],
      "source": [
        "# Show only rows where DTI is greater than 0\n",
        "print(df[df['Qualifying DTI'] > 0].head(10))\n"
      ]
    },
    {
      "cell_type": "code",
      "execution_count": null,
      "id": "52817537-9e07-456e-80fd-0fca90734126",
      "metadata": {
        "id": "52817537-9e07-456e-80fd-0fca90734126",
        "outputId": "9420a5bd-3f02-4b4c-8ec8-fb4fff0072ff"
      },
      "outputs": [
        {
          "name": "stdout",
          "output_type": "stream",
          "text": [
            "   state  Defaulted  reward_approve  reward_investigate  reward_deny\n",
            "0      5        0.0              10                   5            0\n",
            "1      4        0.0              10                   5            0\n",
            "2      5        0.0              10                   5            0\n",
            "3      5        0.0              10                   5            0\n",
            "4      8        0.0              10                   5            0\n"
          ]
        }
      ],
      "source": [
        "# Define action mapping\n",
        "ACTIONS = {0: \"Approve\", 1: \"Investigate\", 2: \"Deny\"}\n",
        "\n",
        "# Assign rewards based on action & default status\n",
        "def get_reward(action, defaulted):\n",
        "    if action == 0:  # Approve\n",
        "        return 10 if defaulted == 0 else -20  # High reward or heavy penalty\n",
        "    elif action == 1:  # Investigate\n",
        "        return 5 if defaulted == 0 else -5  # Moderate reward/penalty\n",
        "    else:  # Deny\n",
        "        return 0  # Neutral\n",
        "\n",
        "# Apply action-reward logic to the dataset\n",
        "df['reward_approve'] = df['Defaulted'].apply(lambda x: get_reward(0, x))\n",
        "df['reward_investigate'] = df['Defaulted'].apply(lambda x: get_reward(1, x))\n",
        "df['reward_deny'] = 0  # Always neutral\n",
        "\n",
        "# Preview dataset with rewards\n",
        "print(df[['state', 'Defaulted', 'reward_approve', 'reward_investigate', 'reward_deny']].head())\n"
      ]
    },
    {
      "cell_type": "code",
      "execution_count": null,
      "id": "5361516e-a245-489d-900b-cae1c840fa88",
      "metadata": {
        "id": "5361516e-a245-489d-900b-cae1c840fa88",
        "outputId": "e6f700ea-da95-4039-999c-0dd27eb52cad"
      },
      "outputs": [
        {
          "name": "stdout",
          "output_type": "stream",
          "text": [
            "{np.float64(1.0): {0: {np.float64(1.0): 1.0},\n",
            "                   1: {np.float64(1.0): 1.0},\n",
            "                   2: {np.float64(1.0): 1.0}},\n",
            " np.float64(2.0): {0: {np.float64(2.0): 1.0},\n",
            "                   1: {np.float64(2.0): 1.0},\n",
            "                   2: {np.float64(2.0): 1.0}},\n",
            " np.float64(3.0): {0: {np.float64(3.0): 1.0},\n",
            "                   1: {np.float64(3.0): 1.0},\n",
            "                   2: {np.float64(3.0): 1.0}},\n",
            " np.float64(4.0): {0: {np.float64(4.0): 1.0},\n",
            "                   1: {np.float64(4.0): 1.0},\n",
            "                   2: {np.float64(4.0): 1.0}},\n",
            " np.float64(5.0): {0: {np.float64(5.0): 1.0},\n",
            "                   1: {np.float64(5.0): 1.0},\n",
            "                   2: {np.float64(5.0): 1.0}},\n",
            " np.float64(6.0): {0: {np.float64(6.0): 1.0},\n",
            "                   1: {np.float64(6.0): 1.0},\n",
            "                   2: {np.float64(6.0): 1.0}},\n",
            " np.float64(8.0): {0: {np.float64(8.0): 1.0},\n",
            "                   1: {np.float64(8.0): 1.0},\n",
            "                   2: {np.float64(8.0): 1.0}}}\n"
          ]
        }
      ],
      "source": [
        "from collections import defaultdict\n",
        "\n",
        "# Initialize transition matrix\n",
        "transitions = defaultdict(lambda: defaultdict(lambda: defaultdict(int)))\n",
        "\n",
        "# Count transitions from (state, action) → next state\n",
        "for _, row in df.iterrows():\n",
        "    current_state = row['state']\n",
        "\n",
        "    # Check next state logic (simulate movement based on default history)\n",
        "    if row['Defaulted'] == 1:\n",
        "        next_state = 0  # Heavy penalty → Reset to State 0\n",
        "    else:\n",
        "        next_state = current_state  # Stay in the same state\n",
        "\n",
        "    # Update transition counts\n",
        "    transitions[current_state][0][next_state] += 1  # Approve\n",
        "    transitions[current_state][1][next_state] += 1  # Investigate\n",
        "    transitions[current_state][2][current_state] += 1  # Deny (stays in the same state)\n",
        "\n",
        "# Normalize counts to get probabilities\n",
        "transition_probs = {}\n",
        "for state in transitions:\n",
        "    transition_probs[state] = {}\n",
        "    for action in transitions[state]:\n",
        "        total_transitions = sum(transitions[state][action].values())\n",
        "        transition_probs[state][action] = {s_prime: count / total_transitions for s_prime, count in transitions[state][action].items()}\n",
        "\n",
        "# Print transition probabilities\n",
        "import pprint\n",
        "pprint.pprint(transition_probs)\n"
      ]
    },
    {
      "cell_type": "code",
      "execution_count": null,
      "id": "0b87971c-1505-46d5-838e-b105656430de",
      "metadata": {
        "id": "0b87971c-1505-46d5-838e-b105656430de",
        "outputId": "0c5fb065-5459-4bac-90e9-cd27cef9c5df"
      },
      "outputs": [
        {
          "name": "stdout",
          "output_type": "stream",
          "text": [
            "{1: {0: {0: 0.25, 1: 0.25, 2: 0.5}, 1: {0: 0.25, 1: 0.25, 2: 0.5}, 2: {1: 1.0}},\n",
            " 2: {0: {1: 0.2, 2: 0.6, 3: 0.2}, 1: {1: 0.2, 2: 0.6, 3: 0.2}, 2: {2: 1.0}},\n",
            " 3: {0: {2: 0.455, 3: 0.364, 4: 0.182},\n",
            "     1: {2: 0.455, 3: 0.364, 4: 0.182},\n",
            "     2: {3: 1.0}},\n",
            " 4: {0: {3: 0.25, 4: 0.3, 5: 0.45}, 1: {3: 0.25, 4: 0.3, 5: 0.45}, 2: {4: 1.0}},\n",
            " 5: {0: {4: 0.344, 5: 0.23, 6: 0.426},\n",
            "     1: {4: 0.344, 5: 0.23, 6: 0.426},\n",
            "     2: {5: 1.0}},\n",
            " 6: {0: {5: 1.0}, 1: {5: 1.0}, 2: {6: 1.0}},\n",
            " 8: {0: {7: 0.304, 8: 0.696}, 1: {7: 0.304, 8: 0.696}, 2: {8: 1.0}}}\n"
          ]
        }
      ],
      "source": [
        "import random\n",
        "\n",
        "# Initialize transition matrix\n",
        "transitions = defaultdict(lambda: defaultdict(lambda: defaultdict(int)))\n",
        "\n",
        "# Count transitions from (state, action) → next state\n",
        "for _, row in df.iterrows():\n",
        "    current_state = int(row['state'])  # Ensure it's an integer\n",
        "\n",
        "    # Introduce dynamic next-state movement\n",
        "    if row['Defaulted'] == 1:\n",
        "        next_state = 0  # Default → Move to worst state (state 0)\n",
        "    else:\n",
        "        # Borrowers may move slightly (randomness)\n",
        "        move = random.choice([-1, 0, 1])  # Move left (-1), stay (0), or move right (+1)\n",
        "        next_state = max(0, min(8, current_state + move))  # Ensure within state range (0-8)\n",
        "\n",
        "    # Update transition counts\n",
        "    transitions[current_state][0][next_state] += 1  # Approve\n",
        "    transitions[current_state][1][next_state] += 1  # Investigate\n",
        "    transitions[current_state][2][current_state] += 1  # Deny (always stays same)\n",
        "\n",
        "# Normalize counts to get probabilities\n",
        "transition_probs = {}\n",
        "for state in transitions:\n",
        "    transition_probs[state] = {}\n",
        "    for action in transitions[state]:\n",
        "        total_transitions = sum(transitions[state][action].values())\n",
        "        transition_probs[state][action] = {\n",
        "            s_prime: round(count / total_transitions, 3) for s_prime, count in transitions[state][action].items()\n",
        "        }\n",
        "\n",
        "# Print improved transition probabilities\n",
        "import pprint\n",
        "pprint.pprint(transition_probs)\n"
      ]
    },
    {
      "cell_type": "code",
      "execution_count": null,
      "id": "141c7f99-a11b-497e-8d3a-c81ed9b609b8",
      "metadata": {
        "id": "141c7f99-a11b-497e-8d3a-c81ed9b609b8",
        "outputId": "bdd28577-2683-466d-f26e-df3e9176406e"
      },
      "outputs": [
        {
          "name": "stdout",
          "output_type": "stream",
          "text": [
            "Index(['Borrower FICO', 'Qualifying DTI', 'Borrower Verified Income',\n",
            "       'Defaulted', 'fico_level', 'dti_level', 'income_level', 'state',\n",
            "       'grid_x', 'grid_y', 'reward_approve', 'reward_investigate',\n",
            "       'reward_deny'],\n",
            "      dtype='object')\n"
          ]
        }
      ],
      "source": [
        "print(df.columns)\n"
      ]
    },
    {
      "cell_type": "code",
      "execution_count": null,
      "id": "11bc1a50-4356-43dd-92e9-f055c92d0693",
      "metadata": {
        "id": "11bc1a50-4356-43dd-92e9-f055c92d0693"
      },
      "outputs": [],
      "source": [
        "# Ensure column names are consistent (lowercase)\n",
        "df.columns = df.columns.str.strip().str.lower()  # Fix extra spaces & convert to lowercase\n",
        "\n",
        "# Fix reward column references by making them lowercase\n",
        "reward_column = f\"reward_{ACTIONS[a].lower()}\"\n",
        "\n",
        "# Check if the column exists before accessing\n",
        "if reward_column in df.columns:\n",
        "    reward_value = df.loc[df['state'] == s, reward_column].mean()\n",
        "else:\n",
        "    reward_value = 0  # Default to 0 if column is missing\n"
      ]
    },
    {
      "cell_type": "code",
      "execution_count": null,
      "id": "601fb7b3-570e-47a5-b5d3-4524ca615e7c",
      "metadata": {
        "id": "601fb7b3-570e-47a5-b5d3-4524ca615e7c",
        "outputId": "a007d47d-5c9d-4d71-f2d8-f58b71376bf8"
      },
      "outputs": [
        {
          "name": "stdout",
          "output_type": "stream",
          "text": [
            "✅ All reward columns exist!\n"
          ]
        }
      ],
      "source": [
        "expected_columns = [\"reward_approve\", \"reward_investigate\", \"reward_deny\"]\n",
        "missing_columns = [col for col in expected_columns if col not in df.columns]\n",
        "\n",
        "if missing_columns:\n",
        "    print(f\"⚠️ Missing columns: {missing_columns}\")\n",
        "else:\n",
        "    print(\"✅ All reward columns exist!\")\n"
      ]
    },
    {
      "cell_type": "code",
      "execution_count": null,
      "id": "8cfd746d-8c6f-4c32-bb12-200e22ee9022",
      "metadata": {
        "id": "8cfd746d-8c6f-4c32-bb12-200e22ee9022",
        "outputId": "62805a96-d277-475f-df9d-fbb71813f254"
      },
      "outputs": [
        {
          "name": "stdout",
          "output_type": "stream",
          "text": [
            "\n",
            "✅ Optimal Value Function (V*):\n",
            "State 0: 0.000\n",
            "State 1: 57.765\n",
            "State 2: 77.262\n",
            "State 3: 84.127\n",
            "State 4: 91.077\n",
            "State 5: 92.734\n",
            "State 6: 93.461\n",
            "State 7: 0.000\n",
            "State 8: 26.767\n",
            "\n",
            "✅ Optimal Policy (Best Action in Each State):\n",
            "State 0: No Action\n",
            "State 1: Approve\n",
            "State 2: Approve\n",
            "State 3: Approve\n",
            "State 4: Approve\n",
            "State 5: Approve\n",
            "State 6: Approve\n",
            "State 7: No Action\n",
            "State 8: Approve\n"
          ]
        }
      ],
      "source": [
        "import numpy as np\n",
        "\n",
        "# Define discount factor and convergence threshold\n",
        "gamma = 0.9\n",
        "theta = 0.0001\n",
        "\n",
        "# Initialize Value Function (V) for all states (0-8) as zero\n",
        "V = {s: 0 for s in range(9)}\n",
        "\n",
        "# Run Value Iteration until convergence\n",
        "while True:\n",
        "    delta = 0  # Change tracker\n",
        "    new_V = V.copy()\n",
        "\n",
        "    for s in range(9):  # Loop over all states\n",
        "        max_value = float('-inf')\n",
        "\n",
        "        for a in range(3):  # Loop over actions (0=Approve, 1=Investigate, 2=Deny)\n",
        "            expected_value = 0  # Start with zero\n",
        "\n",
        "            if s in transition_probs and a in transition_probs[s]:  # Ensure valid state-action pair\n",
        "                for s_prime in transition_probs[s][a]:\n",
        "                    # Ensure consistent reward column names\n",
        "                    reward_column = f\"reward_{ACTIONS[a].lower()}\"\n",
        "\n",
        "                    # Check if column exists, else default to 0\n",
        "                    reward_value = df.loc[df['state'] == s, reward_column].mean() if reward_column in df.columns else 0\n",
        "\n",
        "                    if np.isnan(reward_value):  # Handle missing rewards\n",
        "                        reward_value = 0\n",
        "\n",
        "                    # Compute expected value\n",
        "                    expected_value += transition_probs[s][a][s_prime] * (reward_value + gamma * V.get(s_prime, 0))\n",
        "\n",
        "            if expected_value > max_value:\n",
        "                max_value = expected_value\n",
        "\n",
        "        # Update Value Function\n",
        "        new_V[s] = max_value\n",
        "        delta = max(delta, abs(V[s] - new_V[s]))\n",
        "\n",
        "    V = new_V  # Apply update\n",
        "\n",
        "    if delta < theta:  # Check for convergence\n",
        "        break\n",
        "\n",
        "# Compute Optimal Policy (Best Action for Each State)\n",
        "policy = {}\n",
        "for s in range(9):\n",
        "    if s in transition_probs:\n",
        "        best_action = max(range(3), key=lambda a: sum(\n",
        "            transition_probs[s][a].get(s_prime, 0) *\n",
        "            (df.loc[df['state'] == s, f\"reward_{ACTIONS[a].lower()}\"].mean() + gamma * V.get(s_prime, 0))\n",
        "            for s_prime in transition_probs[s][a]\n",
        "        ))\n",
        "        policy[s] = ACTIONS[best_action]\n",
        "    else:\n",
        "        policy[s] = \"No Action\"  # If state is missing, assign a default action\n",
        "\n",
        "# Print Optimal Value Function & Policy\n",
        "print(\"\\n✅ Optimal Value Function (V*):\")\n",
        "for s in range(9):\n",
        "    print(f\"State {s}: {V[s]:.3f}\")\n",
        "\n",
        "print(\"\\n✅ Optimal Policy (Best Action in Each State):\")\n",
        "for s in range(9):\n",
        "    print(f\"State {s}: {policy[s]}\")\n"
      ]
    },
    {
      "cell_type": "code",
      "execution_count": null,
      "id": "7e891902-4d6a-424c-a09e-d096bdb507fc",
      "metadata": {
        "id": "7e891902-4d6a-424c-a09e-d096bdb507fc"
      },
      "outputs": [],
      "source": []
    }
  ],
  "metadata": {
    "kernelspec": {
      "display_name": "Python 3 (ipykernel)",
      "language": "python",
      "name": "python3"
    },
    "language_info": {
      "codemirror_mode": {
        "name": "ipython",
        "version": 3
      },
      "file_extension": ".py",
      "mimetype": "text/x-python",
      "name": "python",
      "nbconvert_exporter": "python",
      "pygments_lexer": "ipython3",
      "version": "3.13.2"
    },
    "colab": {
      "provenance": []
    }
  },
  "nbformat": 4,
  "nbformat_minor": 5
}